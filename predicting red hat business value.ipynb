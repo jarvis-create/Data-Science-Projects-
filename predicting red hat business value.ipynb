{
 "cells": [
  {
   "cell_type": "code",
   "execution_count": 3,
   "metadata": {},
   "outputs": [],
   "source": [
    "import pandas as pd\n",
    "import numpy as np\n",
    "import matplotlib.pyplot as plt\n",
    "import seaborn as sns\n",
    "%matplotlib inline"
   ]
  },
  {
   "cell_type": "code",
   "execution_count": 4,
   "metadata": {},
   "outputs": [],
   "source": [
    "#import pandas_profiling as pp"
   ]
  },
  {
   "cell_type": "code",
   "execution_count": 5,
   "metadata": {},
   "outputs": [],
   "source": [
    "temp_1=pd.read_csv(r'C:\\Users\\m_joekid\\Desktop\\Vscodes\\datasets\\people.csv')\n",
    "temp_2=pd.read_csv(r'C:\\Users\\m_joekid\\Desktop\\Vscodes\\datasets\\act_train.csv')"
   ]
  },
  {
   "cell_type": "code",
   "execution_count": 6,
   "metadata": {},
   "outputs": [
    {
     "output_type": "execute_result",
     "data": {
      "text/plain": "    people_id  char_1      group_1  char_2        date   char_3   char_4  \\\n0     ppl_100  type 2  group 17304  type 2  2021-06-29   type 5   type 5   \n1  ppl_100002  type 2   group 8688  type 3  2021-01-06  type 28   type 9   \n2  ppl_100003  type 2  group 33592  type 3  2022-06-10   type 4   type 8   \n3  ppl_100004  type 2  group 22593  type 3  2022-07-20  type 40  type 25   \n4  ppl_100006  type 2   group 6534  type 3  2022-07-27  type 40  type 25   \n\n   char_5  char_6   char_7  ... char_29 char_30  char_31  char_32  char_33  \\\n0  type 5  type 3  type 11  ...   False    True     True    False    False   \n1  type 5  type 3  type 11  ...   False    True     True     True     True   \n2  type 5  type 2   type 5  ...   False   False     True     True     True   \n3  type 9  type 4  type 16  ...    True    True     True     True     True   \n4  type 9  type 3   type 8  ...   False   False     True    False    False   \n\n   char_34  char_35  char_36  char_37  char_38  \n0     True     True     True    False       36  \n1     True     True     True    False       76  \n2     True    False     True     True       99  \n3     True     True     True     True       76  \n4    False     True     True    False       84  \n\n[5 rows x 41 columns]",
      "text/html": "<div>\n<style scoped>\n    .dataframe tbody tr th:only-of-type {\n        vertical-align: middle;\n    }\n\n    .dataframe tbody tr th {\n        vertical-align: top;\n    }\n\n    .dataframe thead th {\n        text-align: right;\n    }\n</style>\n<table border=\"1\" class=\"dataframe\">\n  <thead>\n    <tr style=\"text-align: right;\">\n      <th></th>\n      <th>people_id</th>\n      <th>char_1</th>\n      <th>group_1</th>\n      <th>char_2</th>\n      <th>date</th>\n      <th>char_3</th>\n      <th>char_4</th>\n      <th>char_5</th>\n      <th>char_6</th>\n      <th>char_7</th>\n      <th>...</th>\n      <th>char_29</th>\n      <th>char_30</th>\n      <th>char_31</th>\n      <th>char_32</th>\n      <th>char_33</th>\n      <th>char_34</th>\n      <th>char_35</th>\n      <th>char_36</th>\n      <th>char_37</th>\n      <th>char_38</th>\n    </tr>\n  </thead>\n  <tbody>\n    <tr>\n      <th>0</th>\n      <td>ppl_100</td>\n      <td>type 2</td>\n      <td>group 17304</td>\n      <td>type 2</td>\n      <td>2021-06-29</td>\n      <td>type 5</td>\n      <td>type 5</td>\n      <td>type 5</td>\n      <td>type 3</td>\n      <td>type 11</td>\n      <td>...</td>\n      <td>False</td>\n      <td>True</td>\n      <td>True</td>\n      <td>False</td>\n      <td>False</td>\n      <td>True</td>\n      <td>True</td>\n      <td>True</td>\n      <td>False</td>\n      <td>36</td>\n    </tr>\n    <tr>\n      <th>1</th>\n      <td>ppl_100002</td>\n      <td>type 2</td>\n      <td>group 8688</td>\n      <td>type 3</td>\n      <td>2021-01-06</td>\n      <td>type 28</td>\n      <td>type 9</td>\n      <td>type 5</td>\n      <td>type 3</td>\n      <td>type 11</td>\n      <td>...</td>\n      <td>False</td>\n      <td>True</td>\n      <td>True</td>\n      <td>True</td>\n      <td>True</td>\n      <td>True</td>\n      <td>True</td>\n      <td>True</td>\n      <td>False</td>\n      <td>76</td>\n    </tr>\n    <tr>\n      <th>2</th>\n      <td>ppl_100003</td>\n      <td>type 2</td>\n      <td>group 33592</td>\n      <td>type 3</td>\n      <td>2022-06-10</td>\n      <td>type 4</td>\n      <td>type 8</td>\n      <td>type 5</td>\n      <td>type 2</td>\n      <td>type 5</td>\n      <td>...</td>\n      <td>False</td>\n      <td>False</td>\n      <td>True</td>\n      <td>True</td>\n      <td>True</td>\n      <td>True</td>\n      <td>False</td>\n      <td>True</td>\n      <td>True</td>\n      <td>99</td>\n    </tr>\n    <tr>\n      <th>3</th>\n      <td>ppl_100004</td>\n      <td>type 2</td>\n      <td>group 22593</td>\n      <td>type 3</td>\n      <td>2022-07-20</td>\n      <td>type 40</td>\n      <td>type 25</td>\n      <td>type 9</td>\n      <td>type 4</td>\n      <td>type 16</td>\n      <td>...</td>\n      <td>True</td>\n      <td>True</td>\n      <td>True</td>\n      <td>True</td>\n      <td>True</td>\n      <td>True</td>\n      <td>True</td>\n      <td>True</td>\n      <td>True</td>\n      <td>76</td>\n    </tr>\n    <tr>\n      <th>4</th>\n      <td>ppl_100006</td>\n      <td>type 2</td>\n      <td>group 6534</td>\n      <td>type 3</td>\n      <td>2022-07-27</td>\n      <td>type 40</td>\n      <td>type 25</td>\n      <td>type 9</td>\n      <td>type 3</td>\n      <td>type 8</td>\n      <td>...</td>\n      <td>False</td>\n      <td>False</td>\n      <td>True</td>\n      <td>False</td>\n      <td>False</td>\n      <td>False</td>\n      <td>True</td>\n      <td>True</td>\n      <td>False</td>\n      <td>84</td>\n    </tr>\n  </tbody>\n</table>\n<p>5 rows × 41 columns</p>\n</div>"
     },
     "metadata": {},
     "execution_count": 6
    }
   ],
   "source": [
    "temp_1.head()"
   ]
  },
  {
   "cell_type": "code",
   "execution_count": 7,
   "metadata": {},
   "outputs": [
    {
     "output_type": "execute_result",
     "data": {
      "text/plain": "  people_id   activity_id        date activity_category char_1 char_2 char_3  \\\n0   ppl_100  act2_1734928  2023-08-26            type 4    NaN    NaN    NaN   \n1   ppl_100  act2_2434093  2022-09-27            type 2    NaN    NaN    NaN   \n2   ppl_100  act2_3404049  2022-09-27            type 2    NaN    NaN    NaN   \n3   ppl_100  act2_3651215  2023-08-04            type 2    NaN    NaN    NaN   \n4   ppl_100  act2_4109017  2023-08-26            type 2    NaN    NaN    NaN   \n\n  char_4 char_5 char_6 char_7 char_8 char_9  char_10  outcome  \n0    NaN    NaN    NaN    NaN    NaN    NaN  type 76        0  \n1    NaN    NaN    NaN    NaN    NaN    NaN   type 1        0  \n2    NaN    NaN    NaN    NaN    NaN    NaN   type 1        0  \n3    NaN    NaN    NaN    NaN    NaN    NaN   type 1        0  \n4    NaN    NaN    NaN    NaN    NaN    NaN   type 1        0  ",
      "text/html": "<div>\n<style scoped>\n    .dataframe tbody tr th:only-of-type {\n        vertical-align: middle;\n    }\n\n    .dataframe tbody tr th {\n        vertical-align: top;\n    }\n\n    .dataframe thead th {\n        text-align: right;\n    }\n</style>\n<table border=\"1\" class=\"dataframe\">\n  <thead>\n    <tr style=\"text-align: right;\">\n      <th></th>\n      <th>people_id</th>\n      <th>activity_id</th>\n      <th>date</th>\n      <th>activity_category</th>\n      <th>char_1</th>\n      <th>char_2</th>\n      <th>char_3</th>\n      <th>char_4</th>\n      <th>char_5</th>\n      <th>char_6</th>\n      <th>char_7</th>\n      <th>char_8</th>\n      <th>char_9</th>\n      <th>char_10</th>\n      <th>outcome</th>\n    </tr>\n  </thead>\n  <tbody>\n    <tr>\n      <th>0</th>\n      <td>ppl_100</td>\n      <td>act2_1734928</td>\n      <td>2023-08-26</td>\n      <td>type 4</td>\n      <td>NaN</td>\n      <td>NaN</td>\n      <td>NaN</td>\n      <td>NaN</td>\n      <td>NaN</td>\n      <td>NaN</td>\n      <td>NaN</td>\n      <td>NaN</td>\n      <td>NaN</td>\n      <td>type 76</td>\n      <td>0</td>\n    </tr>\n    <tr>\n      <th>1</th>\n      <td>ppl_100</td>\n      <td>act2_2434093</td>\n      <td>2022-09-27</td>\n      <td>type 2</td>\n      <td>NaN</td>\n      <td>NaN</td>\n      <td>NaN</td>\n      <td>NaN</td>\n      <td>NaN</td>\n      <td>NaN</td>\n      <td>NaN</td>\n      <td>NaN</td>\n      <td>NaN</td>\n      <td>type 1</td>\n      <td>0</td>\n    </tr>\n    <tr>\n      <th>2</th>\n      <td>ppl_100</td>\n      <td>act2_3404049</td>\n      <td>2022-09-27</td>\n      <td>type 2</td>\n      <td>NaN</td>\n      <td>NaN</td>\n      <td>NaN</td>\n      <td>NaN</td>\n      <td>NaN</td>\n      <td>NaN</td>\n      <td>NaN</td>\n      <td>NaN</td>\n      <td>NaN</td>\n      <td>type 1</td>\n      <td>0</td>\n    </tr>\n    <tr>\n      <th>3</th>\n      <td>ppl_100</td>\n      <td>act2_3651215</td>\n      <td>2023-08-04</td>\n      <td>type 2</td>\n      <td>NaN</td>\n      <td>NaN</td>\n      <td>NaN</td>\n      <td>NaN</td>\n      <td>NaN</td>\n      <td>NaN</td>\n      <td>NaN</td>\n      <td>NaN</td>\n      <td>NaN</td>\n      <td>type 1</td>\n      <td>0</td>\n    </tr>\n    <tr>\n      <th>4</th>\n      <td>ppl_100</td>\n      <td>act2_4109017</td>\n      <td>2023-08-26</td>\n      <td>type 2</td>\n      <td>NaN</td>\n      <td>NaN</td>\n      <td>NaN</td>\n      <td>NaN</td>\n      <td>NaN</td>\n      <td>NaN</td>\n      <td>NaN</td>\n      <td>NaN</td>\n      <td>NaN</td>\n      <td>type 1</td>\n      <td>0</td>\n    </tr>\n  </tbody>\n</table>\n</div>"
     },
     "metadata": {},
     "execution_count": 7
    }
   ],
   "source": [
    "temp_2.head()"
   ]
  },
  {
   "cell_type": "code",
   "execution_count": 8,
   "metadata": {},
   "outputs": [
    {
     "output_type": "execute_result",
     "data": {
      "text/plain": "0"
     },
     "metadata": {},
     "execution_count": 8
    }
   ],
   "source": [
    "temp_1.isnull().sum().sum()"
   ]
  },
  {
   "cell_type": "code",
   "execution_count": 9,
   "metadata": {},
   "outputs": [
    {
     "output_type": "execute_result",
     "data": {
      "text/plain": "people_id            0.000000\nactivity_id          0.000000\ndate                 0.000000\nactivity_category    0.000000\nchar_1               0.928268\nchar_2               0.928268\nchar_3               0.928268\nchar_4               0.928268\nchar_5               0.928268\nchar_6               0.928268\nchar_7               0.928268\nchar_8               0.928268\nchar_9               0.928268\nchar_10              0.071732\noutcome              0.000000\ndtype: float64"
     },
     "metadata": {},
     "execution_count": 9
    }
   ],
   "source": [
    "temp_2.isnull().sum()/temp_2.shape[0]"
   ]
  },
  {
   "cell_type": "code",
   "execution_count": 10,
   "metadata": {},
   "outputs": [],
   "source": [
    "temp_2.dropna(thresh=len(temp_2)*0.9, axis='columns',inplace=True)"
   ]
  },
  {
   "cell_type": "code",
   "execution_count": 11,
   "metadata": {
    "tags": []
   },
   "outputs": [
    {
     "output_type": "stream",
     "name": "stdout",
     "text": "shape of dataset (189118, 41)\nshape of dataset (2197291, 6)\n"
    }
   ],
   "source": [
    "print ('shape of dataset', temp_1.shape)\n",
    "print ('shape of dataset', temp_2.shape)"
   ]
  },
  {
   "cell_type": "code",
   "execution_count": 12,
   "metadata": {},
   "outputs": [
    {
     "output_type": "execute_result",
     "data": {
      "text/plain": "  people_id   activity_id        date activity_category  char_10  outcome\n0   ppl_100  act2_1734928  2023-08-26            type 4  type 76        0\n1   ppl_100  act2_2434093  2022-09-27            type 2   type 1        0\n2   ppl_100  act2_3404049  2022-09-27            type 2   type 1        0\n3   ppl_100  act2_3651215  2023-08-04            type 2   type 1        0\n4   ppl_100  act2_4109017  2023-08-26            type 2   type 1        0",
      "text/html": "<div>\n<style scoped>\n    .dataframe tbody tr th:only-of-type {\n        vertical-align: middle;\n    }\n\n    .dataframe tbody tr th {\n        vertical-align: top;\n    }\n\n    .dataframe thead th {\n        text-align: right;\n    }\n</style>\n<table border=\"1\" class=\"dataframe\">\n  <thead>\n    <tr style=\"text-align: right;\">\n      <th></th>\n      <th>people_id</th>\n      <th>activity_id</th>\n      <th>date</th>\n      <th>activity_category</th>\n      <th>char_10</th>\n      <th>outcome</th>\n    </tr>\n  </thead>\n  <tbody>\n    <tr>\n      <th>0</th>\n      <td>ppl_100</td>\n      <td>act2_1734928</td>\n      <td>2023-08-26</td>\n      <td>type 4</td>\n      <td>type 76</td>\n      <td>0</td>\n    </tr>\n    <tr>\n      <th>1</th>\n      <td>ppl_100</td>\n      <td>act2_2434093</td>\n      <td>2022-09-27</td>\n      <td>type 2</td>\n      <td>type 1</td>\n      <td>0</td>\n    </tr>\n    <tr>\n      <th>2</th>\n      <td>ppl_100</td>\n      <td>act2_3404049</td>\n      <td>2022-09-27</td>\n      <td>type 2</td>\n      <td>type 1</td>\n      <td>0</td>\n    </tr>\n    <tr>\n      <th>3</th>\n      <td>ppl_100</td>\n      <td>act2_3651215</td>\n      <td>2023-08-04</td>\n      <td>type 2</td>\n      <td>type 1</td>\n      <td>0</td>\n    </tr>\n    <tr>\n      <th>4</th>\n      <td>ppl_100</td>\n      <td>act2_4109017</td>\n      <td>2023-08-26</td>\n      <td>type 2</td>\n      <td>type 1</td>\n      <td>0</td>\n    </tr>\n  </tbody>\n</table>\n</div>"
     },
     "metadata": {},
     "execution_count": 12
    }
   ],
   "source": [
    "temp_2.head()"
   ]
  },
  {
   "cell_type": "code",
   "execution_count": 13,
   "metadata": {},
   "outputs": [
    {
     "output_type": "execute_result",
     "data": {
      "text/plain": "Index(['people_id', 'char_1', 'group_1', 'char_2', 'date', 'char_3', 'char_4',\n       'char_5', 'char_6', 'char_7', 'char_8', 'char_9', 'char_10', 'char_11',\n       'char_12', 'char_13', 'char_14', 'char_15', 'char_16', 'char_17',\n       'char_18', 'char_19', 'char_20', 'char_21', 'char_22', 'char_23',\n       'char_24', 'char_25', 'char_26', 'char_27', 'char_28', 'char_29',\n       'char_30', 'char_31', 'char_32', 'char_33', 'char_34', 'char_35',\n       'char_36', 'char_37', 'char_38'],\n      dtype='object')"
     },
     "metadata": {},
     "execution_count": 13
    }
   ],
   "source": [
    "temp_1.columns"
   ]
  },
  {
   "cell_type": "code",
   "execution_count": 14,
   "metadata": {},
   "outputs": [],
   "source": [
    "temp_2 = temp_2.rename(columns={\"date\":\"activity_ date\",\"char_10\":\"activity_type\"})"
   ]
  },
  {
   "cell_type": "code",
   "execution_count": 15,
   "metadata": {},
   "outputs": [],
   "source": [
    "temp_2[\"activity_type\"] = temp_2[\"activity_type\"].fillna(temp_2[\"activity_type\"].mode()[0])"
   ]
  },
  {
   "cell_type": "code",
   "execution_count": 16,
   "metadata": {},
   "outputs": [
    {
     "output_type": "execute_result",
     "data": {
      "text/plain": "people_id            0\nactivity_id          0\nactivity_ date       0\nactivity_category    0\nactivity_type        0\noutcome              0\ndtype: int64"
     },
     "metadata": {},
     "execution_count": 16
    }
   ],
   "source": [
    "temp_2.isnull().sum()"
   ]
  },
  {
   "cell_type": "code",
   "execution_count": 17,
   "metadata": {},
   "outputs": [
    {
     "output_type": "execute_result",
     "data": {
      "text/plain": "(2197291, 46)"
     },
     "metadata": {},
     "execution_count": 17
    }
   ],
   "source": [
    "df=pd.merge(temp_1,temp_2, on='people_id',how='inner')\n",
    "df.shape"
   ]
  },
  {
   "cell_type": "code",
   "execution_count": 18,
   "metadata": {},
   "outputs": [
    {
     "output_type": "execute_result",
     "data": {
      "text/plain": "  people_id  char_1      group_1  char_2        date  char_3  char_4  char_5  \\\n0   ppl_100  type 2  group 17304  type 2  2021-06-29  type 5  type 5  type 5   \n1   ppl_100  type 2  group 17304  type 2  2021-06-29  type 5  type 5  type 5   \n2   ppl_100  type 2  group 17304  type 2  2021-06-29  type 5  type 5  type 5   \n3   ppl_100  type 2  group 17304  type 2  2021-06-29  type 5  type 5  type 5   \n4   ppl_100  type 2  group 17304  type 2  2021-06-29  type 5  type 5  type 5   \n\n   char_6   char_7  ... char_34 char_35  char_36  char_37  char_38  \\\n0  type 3  type 11  ...    True    True     True    False       36   \n1  type 3  type 11  ...    True    True     True    False       36   \n2  type 3  type 11  ...    True    True     True    False       36   \n3  type 3  type 11  ...    True    True     True    False       36   \n4  type 3  type 11  ...    True    True     True    False       36   \n\n    activity_id  activity_ date  activity_category  activity_type  outcome  \n0  act2_1734928      2023-08-26             type 4        type 76        0  \n1  act2_2434093      2022-09-27             type 2         type 1        0  \n2  act2_3404049      2022-09-27             type 2         type 1        0  \n3  act2_3651215      2023-08-04             type 2         type 1        0  \n4  act2_4109017      2023-08-26             type 2         type 1        0  \n\n[5 rows x 46 columns]",
      "text/html": "<div>\n<style scoped>\n    .dataframe tbody tr th:only-of-type {\n        vertical-align: middle;\n    }\n\n    .dataframe tbody tr th {\n        vertical-align: top;\n    }\n\n    .dataframe thead th {\n        text-align: right;\n    }\n</style>\n<table border=\"1\" class=\"dataframe\">\n  <thead>\n    <tr style=\"text-align: right;\">\n      <th></th>\n      <th>people_id</th>\n      <th>char_1</th>\n      <th>group_1</th>\n      <th>char_2</th>\n      <th>date</th>\n      <th>char_3</th>\n      <th>char_4</th>\n      <th>char_5</th>\n      <th>char_6</th>\n      <th>char_7</th>\n      <th>...</th>\n      <th>char_34</th>\n      <th>char_35</th>\n      <th>char_36</th>\n      <th>char_37</th>\n      <th>char_38</th>\n      <th>activity_id</th>\n      <th>activity_ date</th>\n      <th>activity_category</th>\n      <th>activity_type</th>\n      <th>outcome</th>\n    </tr>\n  </thead>\n  <tbody>\n    <tr>\n      <th>0</th>\n      <td>ppl_100</td>\n      <td>type 2</td>\n      <td>group 17304</td>\n      <td>type 2</td>\n      <td>2021-06-29</td>\n      <td>type 5</td>\n      <td>type 5</td>\n      <td>type 5</td>\n      <td>type 3</td>\n      <td>type 11</td>\n      <td>...</td>\n      <td>True</td>\n      <td>True</td>\n      <td>True</td>\n      <td>False</td>\n      <td>36</td>\n      <td>act2_1734928</td>\n      <td>2023-08-26</td>\n      <td>type 4</td>\n      <td>type 76</td>\n      <td>0</td>\n    </tr>\n    <tr>\n      <th>1</th>\n      <td>ppl_100</td>\n      <td>type 2</td>\n      <td>group 17304</td>\n      <td>type 2</td>\n      <td>2021-06-29</td>\n      <td>type 5</td>\n      <td>type 5</td>\n      <td>type 5</td>\n      <td>type 3</td>\n      <td>type 11</td>\n      <td>...</td>\n      <td>True</td>\n      <td>True</td>\n      <td>True</td>\n      <td>False</td>\n      <td>36</td>\n      <td>act2_2434093</td>\n      <td>2022-09-27</td>\n      <td>type 2</td>\n      <td>type 1</td>\n      <td>0</td>\n    </tr>\n    <tr>\n      <th>2</th>\n      <td>ppl_100</td>\n      <td>type 2</td>\n      <td>group 17304</td>\n      <td>type 2</td>\n      <td>2021-06-29</td>\n      <td>type 5</td>\n      <td>type 5</td>\n      <td>type 5</td>\n      <td>type 3</td>\n      <td>type 11</td>\n      <td>...</td>\n      <td>True</td>\n      <td>True</td>\n      <td>True</td>\n      <td>False</td>\n      <td>36</td>\n      <td>act2_3404049</td>\n      <td>2022-09-27</td>\n      <td>type 2</td>\n      <td>type 1</td>\n      <td>0</td>\n    </tr>\n    <tr>\n      <th>3</th>\n      <td>ppl_100</td>\n      <td>type 2</td>\n      <td>group 17304</td>\n      <td>type 2</td>\n      <td>2021-06-29</td>\n      <td>type 5</td>\n      <td>type 5</td>\n      <td>type 5</td>\n      <td>type 3</td>\n      <td>type 11</td>\n      <td>...</td>\n      <td>True</td>\n      <td>True</td>\n      <td>True</td>\n      <td>False</td>\n      <td>36</td>\n      <td>act2_3651215</td>\n      <td>2023-08-04</td>\n      <td>type 2</td>\n      <td>type 1</td>\n      <td>0</td>\n    </tr>\n    <tr>\n      <th>4</th>\n      <td>ppl_100</td>\n      <td>type 2</td>\n      <td>group 17304</td>\n      <td>type 2</td>\n      <td>2021-06-29</td>\n      <td>type 5</td>\n      <td>type 5</td>\n      <td>type 5</td>\n      <td>type 3</td>\n      <td>type 11</td>\n      <td>...</td>\n      <td>True</td>\n      <td>True</td>\n      <td>True</td>\n      <td>False</td>\n      <td>36</td>\n      <td>act2_4109017</td>\n      <td>2023-08-26</td>\n      <td>type 2</td>\n      <td>type 1</td>\n      <td>0</td>\n    </tr>\n  </tbody>\n</table>\n<p>5 rows × 46 columns</p>\n</div>"
     },
     "metadata": {},
     "execution_count": 18
    }
   ],
   "source": [
    "df.head()"
   ]
  },
  {
   "cell_type": "code",
   "execution_count": 19,
   "metadata": {},
   "outputs": [],
   "source": [
    "df_copy=df "
   ]
  },
  {
   "cell_type": "code",
   "execution_count": 20,
   "metadata": {},
   "outputs": [
    {
     "output_type": "execute_result",
     "data": {
      "text/plain": "  people_id  char_1      group_1  char_2        date  char_3  char_4  char_5  \\\n0   ppl_100  type 2  group 17304  type 2  2021-06-29  type 5  type 5  type 5   \n1   ppl_100  type 2  group 17304  type 2  2021-06-29  type 5  type 5  type 5   \n2   ppl_100  type 2  group 17304  type 2  2021-06-29  type 5  type 5  type 5   \n3   ppl_100  type 2  group 17304  type 2  2021-06-29  type 5  type 5  type 5   \n4   ppl_100  type 2  group 17304  type 2  2021-06-29  type 5  type 5  type 5   \n\n   char_6   char_7  ... char_34 char_35  char_36  char_37  char_38  \\\n0  type 3  type 11  ...    True    True     True    False       36   \n1  type 3  type 11  ...    True    True     True    False       36   \n2  type 3  type 11  ...    True    True     True    False       36   \n3  type 3  type 11  ...    True    True     True    False       36   \n4  type 3  type 11  ...    True    True     True    False       36   \n\n    activity_id  activity_ date  activity_category  activity_type  outcome  \n0  act2_1734928      2023-08-26             type 4        type 76        0  \n1  act2_2434093      2022-09-27             type 2         type 1        0  \n2  act2_3404049      2022-09-27             type 2         type 1        0  \n3  act2_3651215      2023-08-04             type 2         type 1        0  \n4  act2_4109017      2023-08-26             type 2         type 1        0  \n\n[5 rows x 46 columns]",
      "text/html": "<div>\n<style scoped>\n    .dataframe tbody tr th:only-of-type {\n        vertical-align: middle;\n    }\n\n    .dataframe tbody tr th {\n        vertical-align: top;\n    }\n\n    .dataframe thead th {\n        text-align: right;\n    }\n</style>\n<table border=\"1\" class=\"dataframe\">\n  <thead>\n    <tr style=\"text-align: right;\">\n      <th></th>\n      <th>people_id</th>\n      <th>char_1</th>\n      <th>group_1</th>\n      <th>char_2</th>\n      <th>date</th>\n      <th>char_3</th>\n      <th>char_4</th>\n      <th>char_5</th>\n      <th>char_6</th>\n      <th>char_7</th>\n      <th>...</th>\n      <th>char_34</th>\n      <th>char_35</th>\n      <th>char_36</th>\n      <th>char_37</th>\n      <th>char_38</th>\n      <th>activity_id</th>\n      <th>activity_ date</th>\n      <th>activity_category</th>\n      <th>activity_type</th>\n      <th>outcome</th>\n    </tr>\n  </thead>\n  <tbody>\n    <tr>\n      <th>0</th>\n      <td>ppl_100</td>\n      <td>type 2</td>\n      <td>group 17304</td>\n      <td>type 2</td>\n      <td>2021-06-29</td>\n      <td>type 5</td>\n      <td>type 5</td>\n      <td>type 5</td>\n      <td>type 3</td>\n      <td>type 11</td>\n      <td>...</td>\n      <td>True</td>\n      <td>True</td>\n      <td>True</td>\n      <td>False</td>\n      <td>36</td>\n      <td>act2_1734928</td>\n      <td>2023-08-26</td>\n      <td>type 4</td>\n      <td>type 76</td>\n      <td>0</td>\n    </tr>\n    <tr>\n      <th>1</th>\n      <td>ppl_100</td>\n      <td>type 2</td>\n      <td>group 17304</td>\n      <td>type 2</td>\n      <td>2021-06-29</td>\n      <td>type 5</td>\n      <td>type 5</td>\n      <td>type 5</td>\n      <td>type 3</td>\n      <td>type 11</td>\n      <td>...</td>\n      <td>True</td>\n      <td>True</td>\n      <td>True</td>\n      <td>False</td>\n      <td>36</td>\n      <td>act2_2434093</td>\n      <td>2022-09-27</td>\n      <td>type 2</td>\n      <td>type 1</td>\n      <td>0</td>\n    </tr>\n    <tr>\n      <th>2</th>\n      <td>ppl_100</td>\n      <td>type 2</td>\n      <td>group 17304</td>\n      <td>type 2</td>\n      <td>2021-06-29</td>\n      <td>type 5</td>\n      <td>type 5</td>\n      <td>type 5</td>\n      <td>type 3</td>\n      <td>type 11</td>\n      <td>...</td>\n      <td>True</td>\n      <td>True</td>\n      <td>True</td>\n      <td>False</td>\n      <td>36</td>\n      <td>act2_3404049</td>\n      <td>2022-09-27</td>\n      <td>type 2</td>\n      <td>type 1</td>\n      <td>0</td>\n    </tr>\n    <tr>\n      <th>3</th>\n      <td>ppl_100</td>\n      <td>type 2</td>\n      <td>group 17304</td>\n      <td>type 2</td>\n      <td>2021-06-29</td>\n      <td>type 5</td>\n      <td>type 5</td>\n      <td>type 5</td>\n      <td>type 3</td>\n      <td>type 11</td>\n      <td>...</td>\n      <td>True</td>\n      <td>True</td>\n      <td>True</td>\n      <td>False</td>\n      <td>36</td>\n      <td>act2_3651215</td>\n      <td>2023-08-04</td>\n      <td>type 2</td>\n      <td>type 1</td>\n      <td>0</td>\n    </tr>\n    <tr>\n      <th>4</th>\n      <td>ppl_100</td>\n      <td>type 2</td>\n      <td>group 17304</td>\n      <td>type 2</td>\n      <td>2021-06-29</td>\n      <td>type 5</td>\n      <td>type 5</td>\n      <td>type 5</td>\n      <td>type 3</td>\n      <td>type 11</td>\n      <td>...</td>\n      <td>True</td>\n      <td>True</td>\n      <td>True</td>\n      <td>False</td>\n      <td>36</td>\n      <td>act2_4109017</td>\n      <td>2023-08-26</td>\n      <td>type 2</td>\n      <td>type 1</td>\n      <td>0</td>\n    </tr>\n  </tbody>\n</table>\n<p>5 rows × 46 columns</p>\n</div>"
     },
     "metadata": {},
     "execution_count": 20
    }
   ],
   "source": [
    "df_copy.head()"
   ]
  },
  {
   "cell_type": "code",
   "execution_count": 21,
   "metadata": {
    "tags": []
   },
   "outputs": [
    {
     "output_type": "stream",
     "name": "stdout",
     "text": "<class 'pandas.core.frame.DataFrame'>\nInt64Index: 2197291 entries, 0 to 2197290\nData columns (total 46 columns):\n #   Column             Dtype \n---  ------             ----- \n 0   people_id          object\n 1   char_1             object\n 2   group_1            object\n 3   char_2             object\n 4   date               object\n 5   char_3             object\n 6   char_4             object\n 7   char_5             object\n 8   char_6             object\n 9   char_7             object\n 10  char_8             object\n 11  char_9             object\n 12  char_10            bool  \n 13  char_11            bool  \n 14  char_12            bool  \n 15  char_13            bool  \n 16  char_14            bool  \n 17  char_15            bool  \n 18  char_16            bool  \n 19  char_17            bool  \n 20  char_18            bool  \n 21  char_19            bool  \n 22  char_20            bool  \n 23  char_21            bool  \n 24  char_22            bool  \n 25  char_23            bool  \n 26  char_24            bool  \n 27  char_25            bool  \n 28  char_26            bool  \n 29  char_27            bool  \n 30  char_28            bool  \n 31  char_29            bool  \n 32  char_30            bool  \n 33  char_31            bool  \n 34  char_32            bool  \n 35  char_33            bool  \n 36  char_34            bool  \n 37  char_35            bool  \n 38  char_36            bool  \n 39  char_37            bool  \n 40  char_38            int64 \n 41  activity_id        object\n 42  activity_ date     object\n 43  activity_category  object\n 44  activity_type      object\n 45  outcome            int64 \ndtypes: bool(28), int64(2), object(16)\nmemory usage: 377.2+ MB\n"
    }
   ],
   "source": [
    "df_copy.info()"
   ]
  },
  {
   "cell_type": "code",
   "execution_count": 22,
   "metadata": {},
   "outputs": [
    {
     "output_type": "execute_result",
     "data": {
      "text/plain": "'1196'"
     },
     "metadata": {},
     "execution_count": 22
    }
   ],
   "source": [
    "#do this for all categorical columns, if your ram is God level, skip\n",
    "str(len(df_copy['date'].unique()))"
   ]
  },
  {
   "cell_type": "code",
   "execution_count": 23,
   "metadata": {},
   "outputs": [],
   "source": [
    "df_copy[['char_10', 'char_11','char_12', 'char_13', 'char_14', 'char_15', 'char_16', 'char_17','char_18', 'char_19', 'char_20', 'char_21', 'char_22', 'char_23','char_24', 'char_25', 'char_26', 'char_27', 'char_28', 'char_29','char_30', 'char_31', 'char_32', 'char_33', 'char_34', 'char_35','char_36', 'char_37']]=np.where(df_copy[['char_10', 'char_11','char_12', 'char_13', 'char_14', 'char_15', 'char_16', 'char_17','char_18', 'char_19', 'char_20', 'char_21', 'char_22', 'char_23','char_24', 'char_25', 'char_26', 'char_27', 'char_28', 'char_29','char_30', 'char_31', 'char_32', 'char_33', 'char_34', 'char_35','char_36', 'char_37']]==True,1,0)"
   ]
  },
  {
   "cell_type": "code",
   "execution_count": 24,
   "metadata": {},
   "outputs": [],
   "source": [
    "#df_copy.info() #just to check all bool are int "
   ]
  },
  {
   "cell_type": "code",
   "execution_count": 25,
   "metadata": {},
   "outputs": [],
   "source": [
    "df_copy['people_id']=df_copy['people_id'].apply(lambda x:x.split('_')[1])\n",
    "df_copy['people_id']=pd.to_numeric(df_copy['people_id'])"
   ]
  },
  {
   "cell_type": "code",
   "execution_count": 26,
   "metadata": {},
   "outputs": [],
   "source": [
    "df_copy['activity_id']=df_copy['activity_id'].apply(lambda x:x.split('_')[1])\n",
    "df_copy['activity_id']=pd.to_numeric(df_copy['activity_id'])\n",
    "df_copy['group_1']=df_copy['group_1'].apply(lambda x:x.split(' ')[1])\n",
    "df_copy['group_1']=pd.to_numeric(df_copy['group_1'])\n",
    "df_copy['activity_type']=df_copy['activity_type'].apply(lambda x:x.split(' ')[1])\n",
    "df_copy['activity_type']=pd.to_numeric(df_copy['activity_type'])"
   ]
  },
  {
   "cell_type": "code",
   "execution_count": 27,
   "metadata": {},
   "outputs": [
    {
     "output_type": "execute_result",
     "data": {
      "text/plain": "   people_id  char_1  group_1  char_2        date  char_3  char_4  char_5  \\\n0      100.0  type 2    17304  type 2  2021-06-29  type 5  type 5  type 5   \n\n   char_6   char_7  ... char_34 char_35  char_36  char_37  char_38  \\\n0  type 3  type 11  ...       1       1        1        0       36   \n\n   activity_id  activity_ date  activity_category  activity_type  outcome  \n0    1734928.0      2023-08-26             type 4             76        0  \n\n[1 rows x 46 columns]",
      "text/html": "<div>\n<style scoped>\n    .dataframe tbody tr th:only-of-type {\n        vertical-align: middle;\n    }\n\n    .dataframe tbody tr th {\n        vertical-align: top;\n    }\n\n    .dataframe thead th {\n        text-align: right;\n    }\n</style>\n<table border=\"1\" class=\"dataframe\">\n  <thead>\n    <tr style=\"text-align: right;\">\n      <th></th>\n      <th>people_id</th>\n      <th>char_1</th>\n      <th>group_1</th>\n      <th>char_2</th>\n      <th>date</th>\n      <th>char_3</th>\n      <th>char_4</th>\n      <th>char_5</th>\n      <th>char_6</th>\n      <th>char_7</th>\n      <th>...</th>\n      <th>char_34</th>\n      <th>char_35</th>\n      <th>char_36</th>\n      <th>char_37</th>\n      <th>char_38</th>\n      <th>activity_id</th>\n      <th>activity_ date</th>\n      <th>activity_category</th>\n      <th>activity_type</th>\n      <th>outcome</th>\n    </tr>\n  </thead>\n  <tbody>\n    <tr>\n      <th>0</th>\n      <td>100.0</td>\n      <td>type 2</td>\n      <td>17304</td>\n      <td>type 2</td>\n      <td>2021-06-29</td>\n      <td>type 5</td>\n      <td>type 5</td>\n      <td>type 5</td>\n      <td>type 3</td>\n      <td>type 11</td>\n      <td>...</td>\n      <td>1</td>\n      <td>1</td>\n      <td>1</td>\n      <td>0</td>\n      <td>36</td>\n      <td>1734928.0</td>\n      <td>2023-08-26</td>\n      <td>type 4</td>\n      <td>76</td>\n      <td>0</td>\n    </tr>\n  </tbody>\n</table>\n<p>1 rows × 46 columns</p>\n</div>"
     },
     "metadata": {},
     "execution_count": 27
    }
   ],
   "source": [
    "df_copy.head(1)"
   ]
  },
  {
   "cell_type": "code",
   "execution_count": 28,
   "metadata": {},
   "outputs": [],
   "source": [
    "df_copy['date']=pd.to_datetime(df_copy['date'])"
   ]
  },
  {
   "cell_type": "code",
   "execution_count": 29,
   "metadata": {},
   "outputs": [],
   "source": [
    "df_copy['Year']=df_copy['date'].dt.year\n",
    "df_copy['Month']=df_copy['date'].dt.month\n",
    "df_copy['Quarter']=df_copy['date'].dt.quarter\n",
    "df_copy['Week']=df_copy['date'].dt.week\n",
    "df_copy['Weekday']=df_copy['date'].dt.weekday\n",
    "df_copy['Day']=df_copy['date'].dt.day"
   ]
  },
  {
   "cell_type": "code",
   "execution_count": 30,
   "metadata": {},
   "outputs": [],
   "source": [
    "df_copy['activity_ date']=pd.to_datetime(df_copy['activity_ date'])"
   ]
  },
  {
   "cell_type": "code",
   "execution_count": 31,
   "metadata": {},
   "outputs": [],
   "source": [
    "df_copy['Activity_Year']=df_copy['activity_ date'].dt.year\n",
    "df_copy['Activity_Month']=df_copy['activity_ date'].dt.month\n",
    "df_copy['Activity_Quarter']=df_copy['activity_ date'].dt.quarter\n",
    "df_copy['Activity_Week']=df_copy['activity_ date'].dt.week\n",
    "df_copy['Activity_Weekday']=df_copy['activity_ date'].dt.weekday\n",
    "df_copy['Activity_Day']=df_copy['activity_ date'].dt.day"
   ]
  },
  {
   "cell_type": "code",
   "execution_count": 32,
   "metadata": {},
   "outputs": [],
   "source": [
    "del(df_copy['date'])\n",
    "del(df_copy['activity_ date'])"
   ]
  },
  {
   "cell_type": "code",
   "execution_count": 33,
   "metadata": {},
   "outputs": [
    {
     "output_type": "execute_result",
     "data": {
      "text/plain": "(2197291, 56)"
     },
     "metadata": {},
     "execution_count": 33
    }
   ],
   "source": [
    "df_copy.shape"
   ]
  },
  {
   "cell_type": "code",
   "execution_count": 34,
   "metadata": {},
   "outputs": [
    {
     "output_type": "execute_result",
     "data": {
      "text/plain": "   people_id  char_1  group_1  char_2  char_3  char_4  char_5  char_6  \\\n0      100.0  type 2    17304  type 2  type 5  type 5  type 5  type 3   \n\n    char_7  char_8  ... Quarter  Week  Weekday  Day  Activity_Year  \\\n0  type 11  type 2  ...       2    26        1   29           2023   \n\n   Activity_Month  Activity_Quarter  Activity_Week  Activity_Weekday  \\\n0               8                 3             34                 5   \n\n   Activity_Day  \n0            26  \n\n[1 rows x 56 columns]",
      "text/html": "<div>\n<style scoped>\n    .dataframe tbody tr th:only-of-type {\n        vertical-align: middle;\n    }\n\n    .dataframe tbody tr th {\n        vertical-align: top;\n    }\n\n    .dataframe thead th {\n        text-align: right;\n    }\n</style>\n<table border=\"1\" class=\"dataframe\">\n  <thead>\n    <tr style=\"text-align: right;\">\n      <th></th>\n      <th>people_id</th>\n      <th>char_1</th>\n      <th>group_1</th>\n      <th>char_2</th>\n      <th>char_3</th>\n      <th>char_4</th>\n      <th>char_5</th>\n      <th>char_6</th>\n      <th>char_7</th>\n      <th>char_8</th>\n      <th>...</th>\n      <th>Quarter</th>\n      <th>Week</th>\n      <th>Weekday</th>\n      <th>Day</th>\n      <th>Activity_Year</th>\n      <th>Activity_Month</th>\n      <th>Activity_Quarter</th>\n      <th>Activity_Week</th>\n      <th>Activity_Weekday</th>\n      <th>Activity_Day</th>\n    </tr>\n  </thead>\n  <tbody>\n    <tr>\n      <th>0</th>\n      <td>100.0</td>\n      <td>type 2</td>\n      <td>17304</td>\n      <td>type 2</td>\n      <td>type 5</td>\n      <td>type 5</td>\n      <td>type 5</td>\n      <td>type 3</td>\n      <td>type 11</td>\n      <td>type 2</td>\n      <td>...</td>\n      <td>2</td>\n      <td>26</td>\n      <td>1</td>\n      <td>29</td>\n      <td>2023</td>\n      <td>8</td>\n      <td>3</td>\n      <td>34</td>\n      <td>5</td>\n      <td>26</td>\n    </tr>\n  </tbody>\n</table>\n<p>1 rows × 56 columns</p>\n</div>"
     },
     "metadata": {},
     "execution_count": 34
    }
   ],
   "source": [
    "df_copy.head(1)"
   ]
  },
  {
   "cell_type": "code",
   "execution_count": 35,
   "metadata": {},
   "outputs": [],
   "source": [
    "from sklearn.compose import make_column_transformer\n",
    "from sklearn.preprocessing import OneHotEncoder"
   ]
  },
  {
   "cell_type": "code",
   "execution_count": 36,
   "metadata": {},
   "outputs": [
    {
     "output_type": "execute_result",
     "data": {
      "text/plain": "Index(['people_id', 'char_1', 'group_1', 'char_2', 'char_3', 'char_4',\n       'char_5', 'char_6', 'char_7', 'char_8', 'char_9', 'char_10', 'char_11',\n       'char_12', 'char_13', 'char_14', 'char_15', 'char_16', 'char_17',\n       'char_18', 'char_19', 'char_20', 'char_21', 'char_22', 'char_23',\n       'char_24', 'char_25', 'char_26', 'char_27', 'char_28', 'char_29',\n       'char_30', 'char_31', 'char_32', 'char_33', 'char_34', 'char_35',\n       'char_36', 'char_37', 'char_38', 'activity_id', 'activity_category',\n       'activity_type', 'outcome', 'Year', 'Month', 'Quarter', 'Week',\n       'Weekday', 'Day', 'Activity_Year', 'Activity_Month', 'Activity_Quarter',\n       'Activity_Week', 'Activity_Weekday', 'Activity_Day'],\n      dtype='object')"
     },
     "metadata": {},
     "execution_count": 36
    }
   ],
   "source": [
    "df_copy.columns"
   ]
  },
  {
   "cell_type": "code",
   "execution_count": 37,
   "metadata": {},
   "outputs": [],
   "source": [
    "#df_copy.info() #just to check the datatype "
   ]
  },
  {
   "cell_type": "code",
   "execution_count": 38,
   "metadata": {},
   "outputs": [],
   "source": [
    "x=df_copy[['people_id', 'char_1', 'group_1', 'char_2', 'char_3', 'char_4', 'char_5', 'char_6', 'char_7', 'char_8', 'char_9', 'char_10', 'char_11', 'char_12', 'char_13', 'char_14', 'char_15', 'char_16', 'char_17', 'char_18', 'char_19', 'char_20', 'char_21', 'char_22', 'char_23',  'char_24', 'char_25', 'char_26', 'char_27', 'char_28', 'char_29','char_30', 'char_31', 'char_32', 'char_33', 'char_34', 'char_35',  'char_36', 'char_37', 'char_38', 'activity_id', 'activity_category',  'activity_type','Year', 'Month', 'Quarter', 'Week',  'Weekday', 'Day', 'Activity_Year', 'Activity_Month', 'Activity_Quarter',  'Activity_Week', 'Activity_Weekday', 'Activity_Day']]"
   ]
  },
  {
   "cell_type": "code",
   "execution_count": 39,
   "metadata": {},
   "outputs": [],
   "source": [
    "y=df_copy['outcome']"
   ]
  },
  {
   "cell_type": "code",
   "execution_count": 40,
   "metadata": {},
   "outputs": [],
   "source": [
    "from sklearn.model_selection import train_test_split"
   ]
  },
  {
   "cell_type": "code",
   "execution_count": 41,
   "metadata": {},
   "outputs": [],
   "source": [
    "column_trans=make_column_transformer((OneHotEncoder(sparse=False),['char_1','char_2', 'char_3', 'char_4', 'char_5', 'char_6', 'char_7', 'char_8', 'char_9','activity_category']),remainder='passthrough')"
   ]
  },
  {
   "cell_type": "code",
   "execution_count": 42,
   "metadata": {},
   "outputs": [],
   "source": [
    "x_train,x_test,y_train,y_test = train_test_split(x,y,test_size=0.2,random_state=2018)\n",
    "x_train,x_val,y_train,y_val = train_test_split(x_train,y_train,test_size=0.1,random_state=2018)"
   ]
  },
  {
   "cell_type": "code",
   "execution_count": 43,
   "metadata": {},
   "outputs": [],
   "source": [
    "import tensorflow as tf "
   ]
  },
  {
   "cell_type": "code",
   "execution_count": 44,
   "metadata": {
    "tags": []
   },
   "outputs": [
    {
     "output_type": "stream",
     "name": "stdout",
     "text": "2.0.0\n"
    }
   ],
   "source": [
    "print (tf.__version__)"
   ]
  },
  {
   "cell_type": "code",
   "execution_count": 45,
   "metadata": {},
   "outputs": [],
   "source": [
    "#column_trans.fit_transform(x_train).shape"
   ]
  },
  {
   "cell_type": "code",
   "execution_count": 46,
   "metadata": {},
   "outputs": [
    {
     "output_type": "execute_result",
     "data": {
      "text/plain": "(175784, 55)"
     },
     "metadata": {},
     "execution_count": 46
    }
   ],
   "source": [
    "x_val.shape"
   ]
  },
  {
   "cell_type": "code",
   "execution_count": 47,
   "metadata": {},
   "outputs": [],
   "source": [
    "from tensorflow.keras import Sequential\n",
    "from tensorflow.keras.layers import Dense,Dropout\n",
    "from tensorflow.keras.callbacks import EarlyStopping "
   ]
  },
  {
   "cell_type": "code",
   "execution_count": 48,
   "metadata": {},
   "outputs": [],
   "source": [
    "from sklearn.preprocessing import StandardScaler\n",
    "scaler=StandardScaler()"
   ]
  },
  {
   "cell_type": "code",
   "execution_count": 53,
   "metadata": {
    "tags": []
   },
   "outputs": [
    {
     "output_type": "stream",
     "name": "stdout",
     "text": "Train on 1582048 samples, validate on 175784 samples\nEpoch 1/3\n1582048/1582048 [==============================] - 1458s 921us/sample - loss: 0.2045 - accuracy: 0.9084 - val_loss: 0.1438 - val_accuracy: 0.9405\nEpoch 2/3\n1582048/1582048 [==============================] - 1217s 769us/sample - loss: 0.1229 - accuracy: 0.9498 - val_loss: 0.1070 - val_accuracy: 0.9574\nEpoch 3/3\n1582048/1582048 [==============================] - 1159s 732us/sample - loss: 0.0961 - accuracy: 0.9619 - val_loss: 0.0930 - val_accuracy: 0.9634\n"
    },
    {
     "output_type": "execute_result",
     "data": {
      "text/plain": "<tensorflow.python.keras.callbacks.History at 0x22bec4bc148>"
     },
     "metadata": {},
     "execution_count": 53
    }
   ],
   "source": [
    "model=Sequential()\n",
    "model.add(Dense(1024,input_dim=183,activation='relu'))\n",
    "model.add(Dense(1024,activation='relu'))\n",
    "model.add(Dense(512,activation='relu'))\n",
    "model.add(Dropout(0.2))\n",
    "model.add(Dense(1,activation='sigmoid'))\n",
    "model.compile(optimizer='Adam',loss='binary_crossentropy',metrics=['accuracy'])\n",
    "p_x_train=(np.asarray(column_trans.fit_transform(x_train)))\n",
    "p_x_val=(np.asarray(column_trans.transform(x_val)))\n",
    "scaled_p_x_train=scaler.fit_transform(p_x_train)\n",
    "scaled_p_x_val=scaler.transform(p_x_val)\n",
    "y_train=np.asarray(y_train)\n",
    "y_val=np.asarray(y_val)\n",
    "model.fit(scaled_p_x_train,y_train,validation_data=(scaled_p_x_val,y_val),epochs=3,batch_size=64)"
   ]
  },
  {
   "cell_type": "code",
   "execution_count": 55,
   "metadata": {},
   "outputs": [],
   "source": [
    "test_x=column_trans.transform(x_test)"
   ]
  },
  {
   "cell_type": "code",
   "execution_count": 56,
   "metadata": {},
   "outputs": [],
   "source": [
    "scaled_test_x=scaler.transform(test_x)"
   ]
  },
  {
   "cell_type": "code",
   "execution_count": 76,
   "metadata": {},
   "outputs": [],
   "source": [
    "predictions=model.predict(scaled_test_x)"
   ]
  },
  {
   "cell_type": "code",
   "execution_count": 58,
   "metadata": {},
   "outputs": [],
   "source": [
    "from sklearn.metrics import classification_report"
   ]
  },
  {
   "cell_type": "code",
   "execution_count": 78,
   "metadata": {
    "tags": [
     "outputPrepend"
    ]
   },
   "outputs": [
    {
     "output_type": "stream",
     "name": "stdout",
     "text": "========================================================================================================================================================================================================================================================================================================================================================================================================================================================================================================================================================================================================================================================================================================================================================================================================================================================================================================================================================================================================================================================================================================================================================================================================================================================================================================================================================================================================================================================================================================================================================================================================================================================================================================================================================================================================================================================================================================================================================================================================================================================================================================================================================================================================================================================================================================================================================================================================================================================================================================================================================================================================================================================================================================================================================================================================================================================================================================================================================================================================================================================================================================================================================================================================================================================================================================================================================================================================================================================================================================================================================================================================================================================================================================================================================================================================================================================================================================================================================================================================================================================================================================================================================================================================================================================================================================================================================================================================================================================================================================================================================================================================================================================================================================================================================================================================================================================================================================================================================================================================================================================================================================================================================================================================================================================================================================================================================================================================================================================================================================================================================================================================================================================================================================================================================================================================================================================================================================================================================================================================================================================================================================================================================================================================================================================================================================================================================================================================================================================================================================================================================================================================================================================================================================================================================================================================================================================================================================================================================================================================================================================================================================================================================================================================================================================================================================================================================================================================================================================================================================================================================================================================================================================================================================================================================================================================================================================================================================================================================================================================================================================================================================================================================================================================================================================================================================================================================================================================================================================================================================================================================================================================================================================================================================================================================================================================================================================================================================================================================================================================================================================================================================================================================================================================================================================================================================================================================================================================================================================================================================================================================================================================================================================================================================================================================================================================================================================================================================================================================================================================================================================================================================================================================================================================================================================================================================================================================================================================================================================================================================================================================================================================================================================================================================================================================================================================================================================================================================================================================================================================================================================================================================================================================================================================================================================================================================================================================================================================================================================================================================================================================================================================================================================================================================================================================================================================================================================================================================================================================================================================================================================================================================================================================================================================================================================================================================================================================================================================================================================================================================================================================================================================================================================================================================================================================================================================================================================================================================================================================================================================================================================================================================================================================================================================================================================================================================================================================================================================================================================================================================================================================================================================================================================================================================================================================================================================================================================================================================================================================================================================================================================================================================================================================================================================================================================================================================================================================================================================================================================================================================================================================================================================================================================================================================================================================================================================================================================================================================================================================================================================================================================================================================================================================================================================================================================================================================================================================================================================================================================================================================================================================================================================================================================================================================================================================================================================================================================================================================================================================================================================================================================================================================================================================================================================================================================================================================================================================================================================================================================================================================================================================================================================================================================================================================================================================================================================================================================================================================================================================================================================================================================================================================================================================================================================================================================================================================================================================================================================================================================================================================================================================================================================================================================================================================================================================================================================================================================================================================================================================================================================================================================================================================================================================================================================================================================================================================================================================================================================================================================================================================================================================================================================================================================================================================================================================================================================================================================================================================================================================================================================================================================================================================================================================================================================================================================================================================================================================================================================================================================================================================================================================================================================================================================================================================================================================================================================================================================================================================================================================================================================================================================================================================================================================================================================================================================================================================================================================================================================================================================================================================================================================================================================================================================================================================================================================================] - 173s 394us/sample - loss: 0.0476 - accuracy: 0.9634\n"
    },
    {
     "output_type": "execute_result",
     "data": {
      "text/plain": "[0.09376439270896818, 0.9633777]"
     },
     "metadata": {},
     "execution_count": 78
    }
   ],
   "source": [
    "model.evaluate(scaled_test_x,np.asarray(y_test))"
   ]
  },
  {
   "cell_type": "code",
   "execution_count": null,
   "metadata": {},
   "outputs": [],
   "source": []
  }
 ],
 "metadata": {
  "kernelspec": {
   "display_name": "Python 3.7 (tensorflow)",
   "language": "python",
   "name": "tensorflow"
  },
  "language_info": {
   "codemirror_mode": {
    "name": "ipython",
    "version": 3
   },
   "file_extension": ".py",
   "mimetype": "text/x-python",
   "name": "python",
   "nbconvert_exporter": "python",
   "pygments_lexer": "ipython3",
   "version": "3.7.4-final"
  }
 },
 "nbformat": 4,
 "nbformat_minor": 2
}