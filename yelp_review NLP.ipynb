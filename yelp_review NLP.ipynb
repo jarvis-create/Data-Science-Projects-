{
 "cells": [
  {
   "cell_type": "code",
   "execution_count": 2,
   "metadata": {},
   "outputs": [],
   "source": [
    "#import all the magicks\n",
    "import nltk\n",
    "import pandas as pd\n",
    "import numpy as np\n",
    "import string\n",
    "import matplotlib.pyplot as plt\n",
    "import seaborn as sns\n",
    "%matplotlib inline"
   ]
  },
  {
   "cell_type": "code",
   "execution_count": 3,
   "metadata": {},
   "outputs": [],
   "source": [
    "yelp=pd.read_csv('yelp.csv')"
   ]
  },
  {
   "cell_type": "code",
   "execution_count": 72,
   "metadata": {},
   "outputs": [
    {
     "name": "stdout",
     "output_type": "stream",
     "text": [
      "<class 'pandas.core.frame.DataFrame'>\n",
      "RangeIndex: 10000 entries, 0 to 9999\n",
      "Data columns (total 11 columns):\n",
      "business_id    10000 non-null object\n",
      "date           10000 non-null object\n",
      "review_id      10000 non-null object\n",
      "stars          10000 non-null int64\n",
      "text           10000 non-null object\n",
      "type           10000 non-null object\n",
      "user_id        10000 non-null object\n",
      "cool           10000 non-null int64\n",
      "useful         10000 non-null int64\n",
      "funny          10000 non-null int64\n",
      "text length    10000 non-null int64\n",
      "dtypes: int64(5), object(6)\n",
      "memory usage: 859.5+ KB\n"
     ]
    }
   ],
   "source": [
    "yelp.info()"
   ]
  },
  {
   "cell_type": "code",
   "execution_count": 73,
   "metadata": {},
   "outputs": [
    {
     "data": {
      "text/html": [
       "<div>\n",
       "<style scoped>\n",
       "    .dataframe tbody tr th:only-of-type {\n",
       "        vertical-align: middle;\n",
       "    }\n",
       "\n",
       "    .dataframe tbody tr th {\n",
       "        vertical-align: top;\n",
       "    }\n",
       "\n",
       "    .dataframe thead th {\n",
       "        text-align: right;\n",
       "    }\n",
       "</style>\n",
       "<table border=\"1\" class=\"dataframe\">\n",
       "  <thead>\n",
       "    <tr style=\"text-align: right;\">\n",
       "      <th></th>\n",
       "      <th>stars</th>\n",
       "      <th>cool</th>\n",
       "      <th>useful</th>\n",
       "      <th>funny</th>\n",
       "      <th>text length</th>\n",
       "    </tr>\n",
       "  </thead>\n",
       "  <tbody>\n",
       "    <tr>\n",
       "      <td>count</td>\n",
       "      <td>10000.000000</td>\n",
       "      <td>10000.000000</td>\n",
       "      <td>10000.000000</td>\n",
       "      <td>10000.000000</td>\n",
       "      <td>10000.000000</td>\n",
       "    </tr>\n",
       "    <tr>\n",
       "      <td>mean</td>\n",
       "      <td>3.777500</td>\n",
       "      <td>0.876800</td>\n",
       "      <td>1.409300</td>\n",
       "      <td>0.701300</td>\n",
       "      <td>710.738700</td>\n",
       "    </tr>\n",
       "    <tr>\n",
       "      <td>std</td>\n",
       "      <td>1.214636</td>\n",
       "      <td>2.067861</td>\n",
       "      <td>2.336647</td>\n",
       "      <td>1.907942</td>\n",
       "      <td>617.399827</td>\n",
       "    </tr>\n",
       "    <tr>\n",
       "      <td>min</td>\n",
       "      <td>1.000000</td>\n",
       "      <td>0.000000</td>\n",
       "      <td>0.000000</td>\n",
       "      <td>0.000000</td>\n",
       "      <td>1.000000</td>\n",
       "    </tr>\n",
       "    <tr>\n",
       "      <td>25%</td>\n",
       "      <td>3.000000</td>\n",
       "      <td>0.000000</td>\n",
       "      <td>0.000000</td>\n",
       "      <td>0.000000</td>\n",
       "      <td>294.000000</td>\n",
       "    </tr>\n",
       "    <tr>\n",
       "      <td>50%</td>\n",
       "      <td>4.000000</td>\n",
       "      <td>0.000000</td>\n",
       "      <td>1.000000</td>\n",
       "      <td>0.000000</td>\n",
       "      <td>541.500000</td>\n",
       "    </tr>\n",
       "    <tr>\n",
       "      <td>75%</td>\n",
       "      <td>5.000000</td>\n",
       "      <td>1.000000</td>\n",
       "      <td>2.000000</td>\n",
       "      <td>1.000000</td>\n",
       "      <td>930.000000</td>\n",
       "    </tr>\n",
       "    <tr>\n",
       "      <td>max</td>\n",
       "      <td>5.000000</td>\n",
       "      <td>77.000000</td>\n",
       "      <td>76.000000</td>\n",
       "      <td>57.000000</td>\n",
       "      <td>4997.000000</td>\n",
       "    </tr>\n",
       "  </tbody>\n",
       "</table>\n",
       "</div>"
      ],
      "text/plain": [
       "              stars          cool        useful         funny   text length\n",
       "count  10000.000000  10000.000000  10000.000000  10000.000000  10000.000000\n",
       "mean       3.777500      0.876800      1.409300      0.701300    710.738700\n",
       "std        1.214636      2.067861      2.336647      1.907942    617.399827\n",
       "min        1.000000      0.000000      0.000000      0.000000      1.000000\n",
       "25%        3.000000      0.000000      0.000000      0.000000    294.000000\n",
       "50%        4.000000      0.000000      1.000000      0.000000    541.500000\n",
       "75%        5.000000      1.000000      2.000000      1.000000    930.000000\n",
       "max        5.000000     77.000000     76.000000     57.000000   4997.000000"
      ]
     },
     "execution_count": 73,
     "metadata": {},
     "output_type": "execute_result"
    }
   ],
   "source": [
    "yelp.describe()"
   ]
  },
  {
   "cell_type": "code",
   "execution_count": 6,
   "metadata": {},
   "outputs": [
    {
     "data": {
      "text/html": [
       "<div>\n",
       "<style scoped>\n",
       "    .dataframe tbody tr th:only-of-type {\n",
       "        vertical-align: middle;\n",
       "    }\n",
       "\n",
       "    .dataframe tbody tr th {\n",
       "        vertical-align: top;\n",
       "    }\n",
       "\n",
       "    .dataframe thead th {\n",
       "        text-align: right;\n",
       "    }\n",
       "</style>\n",
       "<table border=\"1\" class=\"dataframe\">\n",
       "  <thead>\n",
       "    <tr style=\"text-align: right;\">\n",
       "      <th></th>\n",
       "      <th>business_id</th>\n",
       "      <th>date</th>\n",
       "      <th>review_id</th>\n",
       "      <th>stars</th>\n",
       "      <th>text</th>\n",
       "      <th>type</th>\n",
       "      <th>user_id</th>\n",
       "      <th>cool</th>\n",
       "      <th>useful</th>\n",
       "      <th>funny</th>\n",
       "    </tr>\n",
       "  </thead>\n",
       "  <tbody>\n",
       "    <tr>\n",
       "      <td>0</td>\n",
       "      <td>9yKzy9PApeiPPOUJEtnvkg</td>\n",
       "      <td>2011-01-26</td>\n",
       "      <td>fWKvX83p0-ka4JS3dc6E5A</td>\n",
       "      <td>5</td>\n",
       "      <td>My wife took me here on my birthday for breakf...</td>\n",
       "      <td>review</td>\n",
       "      <td>rLtl8ZkDX5vH5nAx9C3q5Q</td>\n",
       "      <td>2</td>\n",
       "      <td>5</td>\n",
       "      <td>0</td>\n",
       "    </tr>\n",
       "    <tr>\n",
       "      <td>1</td>\n",
       "      <td>ZRJwVLyzEJq1VAihDhYiow</td>\n",
       "      <td>2011-07-27</td>\n",
       "      <td>IjZ33sJrzXqU-0X6U8NwyA</td>\n",
       "      <td>5</td>\n",
       "      <td>I have no idea why some people give bad review...</td>\n",
       "      <td>review</td>\n",
       "      <td>0a2KyEL0d3Yb1V6aivbIuQ</td>\n",
       "      <td>0</td>\n",
       "      <td>0</td>\n",
       "      <td>0</td>\n",
       "    </tr>\n",
       "    <tr>\n",
       "      <td>2</td>\n",
       "      <td>6oRAC4uyJCsJl1X0WZpVSA</td>\n",
       "      <td>2012-06-14</td>\n",
       "      <td>IESLBzqUCLdSzSqm0eCSxQ</td>\n",
       "      <td>4</td>\n",
       "      <td>love the gyro plate. Rice is so good and I als...</td>\n",
       "      <td>review</td>\n",
       "      <td>0hT2KtfLiobPvh6cDC8JQg</td>\n",
       "      <td>0</td>\n",
       "      <td>1</td>\n",
       "      <td>0</td>\n",
       "    </tr>\n",
       "    <tr>\n",
       "      <td>3</td>\n",
       "      <td>_1QQZuf4zZOyFCvXc0o6Vg</td>\n",
       "      <td>2010-05-27</td>\n",
       "      <td>G-WvGaISbqqaMHlNnByodA</td>\n",
       "      <td>5</td>\n",
       "      <td>Rosie, Dakota, and I LOVE Chaparral Dog Park!!...</td>\n",
       "      <td>review</td>\n",
       "      <td>uZetl9T0NcROGOyFfughhg</td>\n",
       "      <td>1</td>\n",
       "      <td>2</td>\n",
       "      <td>0</td>\n",
       "    </tr>\n",
       "    <tr>\n",
       "      <td>4</td>\n",
       "      <td>6ozycU1RpktNG2-1BroVtw</td>\n",
       "      <td>2012-01-05</td>\n",
       "      <td>1uJFq2r5QfJG_6ExMRCaGw</td>\n",
       "      <td>5</td>\n",
       "      <td>General Manager Scott Petello is a good egg!!!...</td>\n",
       "      <td>review</td>\n",
       "      <td>vYmM4KTsC8ZfQBg-j5MWkw</td>\n",
       "      <td>0</td>\n",
       "      <td>0</td>\n",
       "      <td>0</td>\n",
       "    </tr>\n",
       "  </tbody>\n",
       "</table>\n",
       "</div>"
      ],
      "text/plain": [
       "              business_id        date               review_id  stars  \\\n",
       "0  9yKzy9PApeiPPOUJEtnvkg  2011-01-26  fWKvX83p0-ka4JS3dc6E5A      5   \n",
       "1  ZRJwVLyzEJq1VAihDhYiow  2011-07-27  IjZ33sJrzXqU-0X6U8NwyA      5   \n",
       "2  6oRAC4uyJCsJl1X0WZpVSA  2012-06-14  IESLBzqUCLdSzSqm0eCSxQ      4   \n",
       "3  _1QQZuf4zZOyFCvXc0o6Vg  2010-05-27  G-WvGaISbqqaMHlNnByodA      5   \n",
       "4  6ozycU1RpktNG2-1BroVtw  2012-01-05  1uJFq2r5QfJG_6ExMRCaGw      5   \n",
       "\n",
       "                                                text    type  \\\n",
       "0  My wife took me here on my birthday for breakf...  review   \n",
       "1  I have no idea why some people give bad review...  review   \n",
       "2  love the gyro plate. Rice is so good and I als...  review   \n",
       "3  Rosie, Dakota, and I LOVE Chaparral Dog Park!!...  review   \n",
       "4  General Manager Scott Petello is a good egg!!!...  review   \n",
       "\n",
       "                  user_id  cool  useful  funny  \n",
       "0  rLtl8ZkDX5vH5nAx9C3q5Q     2       5      0  \n",
       "1  0a2KyEL0d3Yb1V6aivbIuQ     0       0      0  \n",
       "2  0hT2KtfLiobPvh6cDC8JQg     0       1      0  \n",
       "3  uZetl9T0NcROGOyFfughhg     1       2      0  \n",
       "4  vYmM4KTsC8ZfQBg-j5MWkw     0       0      0  "
      ]
     },
     "execution_count": 6,
     "metadata": {},
     "output_type": "execute_result"
    }
   ],
   "source": [
    "yelp.head(5)"
   ]
  },
  {
   "cell_type": "code",
   "execution_count": null,
   "metadata": {},
   "outputs": [],
   "source": [
    "#empty cell don't mind"
   ]
  },
  {
   "cell_type": "code",
   "execution_count": 11,
   "metadata": {},
   "outputs": [],
   "source": [
    "yelp['text length']=yelp['text'].apply(len)"
   ]
  },
  {
   "cell_type": "code",
   "execution_count": 23,
   "metadata": {},
   "outputs": [
    {
     "data": {
      "text/plain": [
       "<seaborn.axisgrid.FacetGrid at 0x1f40225ad88>"
      ]
     },
     "execution_count": 23,
     "metadata": {},
     "output_type": "execute_result"
    },
    {
     "data": {
      "text/plain": [
       "<Figure size 1080x648 with 0 Axes>"
      ]
     },
     "metadata": {},
     "output_type": "display_data"
    },
    {
     "data": {
      "image/png": "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\n",
      "text/plain": [
       "<Figure size 1080x216 with 5 Axes>"
      ]
     },
     "metadata": {
      "needs_background": "light"
     },
     "output_type": "display_data"
    }
   ],
   "source": [
    "plt.figure(figsize=(15,9))\n",
    "g=sns.FacetGrid(yelp, col='stars')\n",
    "g.map(plt.hist,'text length')"
   ]
  },
  {
   "cell_type": "code",
   "execution_count": 22,
   "metadata": {},
   "outputs": [
    {
     "data": {
      "text/plain": [
       "<matplotlib.axes._subplots.AxesSubplot at 0x1f47fc76708>"
      ]
     },
     "execution_count": 22,
     "metadata": {},
     "output_type": "execute_result"
    },
    {
     "data": {
      "image/png": "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\n",
      "text/plain": [
       "<Figure size 432x288 with 1 Axes>"
      ]
     },
     "metadata": {
      "needs_background": "light"
     },
     "output_type": "display_data"
    }
   ],
   "source": [
    "sns.boxplot(y='text length',x='stars',data=yelp)"
   ]
  },
  {
   "cell_type": "code",
   "execution_count": 35,
   "metadata": {},
   "outputs": [
    {
     "data": {
      "text/plain": [
       "<matplotlib.axes._subplots.AxesSubplot at 0x1f412203808>"
      ]
     },
     "execution_count": 35,
     "metadata": {},
     "output_type": "execute_result"
    },
    {
     "data": {
      "image/png": "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\n",
      "text/plain": [
       "<Figure size 432x288 with 1 Axes>"
      ]
     },
     "metadata": {
      "needs_background": "light"
     },
     "output_type": "display_data"
    }
   ],
   "source": [
    "sns.countplot('stars',data=yelp,)"
   ]
  },
  {
   "cell_type": "code",
   "execution_count": 37,
   "metadata": {},
   "outputs": [],
   "source": [
    "stars=yelp.groupby('stars').mean()"
   ]
  },
  {
   "cell_type": "code",
   "execution_count": 38,
   "metadata": {},
   "outputs": [
    {
     "data": {
      "text/html": [
       "<div>\n",
       "<style scoped>\n",
       "    .dataframe tbody tr th:only-of-type {\n",
       "        vertical-align: middle;\n",
       "    }\n",
       "\n",
       "    .dataframe tbody tr th {\n",
       "        vertical-align: top;\n",
       "    }\n",
       "\n",
       "    .dataframe thead th {\n",
       "        text-align: right;\n",
       "    }\n",
       "</style>\n",
       "<table border=\"1\" class=\"dataframe\">\n",
       "  <thead>\n",
       "    <tr style=\"text-align: right;\">\n",
       "      <th></th>\n",
       "      <th>cool</th>\n",
       "      <th>useful</th>\n",
       "      <th>funny</th>\n",
       "      <th>text length</th>\n",
       "    </tr>\n",
       "    <tr>\n",
       "      <th>stars</th>\n",
       "      <th></th>\n",
       "      <th></th>\n",
       "      <th></th>\n",
       "      <th></th>\n",
       "    </tr>\n",
       "  </thead>\n",
       "  <tbody>\n",
       "    <tr>\n",
       "      <td>1</td>\n",
       "      <td>0.576769</td>\n",
       "      <td>1.604806</td>\n",
       "      <td>1.056075</td>\n",
       "      <td>826.515354</td>\n",
       "    </tr>\n",
       "    <tr>\n",
       "      <td>2</td>\n",
       "      <td>0.719525</td>\n",
       "      <td>1.563107</td>\n",
       "      <td>0.875944</td>\n",
       "      <td>842.256742</td>\n",
       "    </tr>\n",
       "    <tr>\n",
       "      <td>3</td>\n",
       "      <td>0.788501</td>\n",
       "      <td>1.306639</td>\n",
       "      <td>0.694730</td>\n",
       "      <td>758.498289</td>\n",
       "    </tr>\n",
       "    <tr>\n",
       "      <td>4</td>\n",
       "      <td>0.954623</td>\n",
       "      <td>1.395916</td>\n",
       "      <td>0.670448</td>\n",
       "      <td>712.923142</td>\n",
       "    </tr>\n",
       "    <tr>\n",
       "      <td>5</td>\n",
       "      <td>0.944261</td>\n",
       "      <td>1.381780</td>\n",
       "      <td>0.608631</td>\n",
       "      <td>624.999101</td>\n",
       "    </tr>\n",
       "  </tbody>\n",
       "</table>\n",
       "</div>"
      ],
      "text/plain": [
       "           cool    useful     funny  text length\n",
       "stars                                           \n",
       "1      0.576769  1.604806  1.056075   826.515354\n",
       "2      0.719525  1.563107  0.875944   842.256742\n",
       "3      0.788501  1.306639  0.694730   758.498289\n",
       "4      0.954623  1.395916  0.670448   712.923142\n",
       "5      0.944261  1.381780  0.608631   624.999101"
      ]
     },
     "execution_count": 38,
     "metadata": {},
     "output_type": "execute_result"
    }
   ],
   "source": [
    "stars"
   ]
  },
  {
   "cell_type": "code",
   "execution_count": 39,
   "metadata": {},
   "outputs": [
    {
     "data": {
      "text/html": [
       "<div>\n",
       "<style scoped>\n",
       "    .dataframe tbody tr th:only-of-type {\n",
       "        vertical-align: middle;\n",
       "    }\n",
       "\n",
       "    .dataframe tbody tr th {\n",
       "        vertical-align: top;\n",
       "    }\n",
       "\n",
       "    .dataframe thead th {\n",
       "        text-align: right;\n",
       "    }\n",
       "</style>\n",
       "<table border=\"1\" class=\"dataframe\">\n",
       "  <thead>\n",
       "    <tr style=\"text-align: right;\">\n",
       "      <th></th>\n",
       "      <th>cool</th>\n",
       "      <th>useful</th>\n",
       "      <th>funny</th>\n",
       "      <th>text length</th>\n",
       "    </tr>\n",
       "  </thead>\n",
       "  <tbody>\n",
       "    <tr>\n",
       "      <td>cool</td>\n",
       "      <td>1.000000</td>\n",
       "      <td>-0.743329</td>\n",
       "      <td>-0.944939</td>\n",
       "      <td>-0.857664</td>\n",
       "    </tr>\n",
       "    <tr>\n",
       "      <td>useful</td>\n",
       "      <td>-0.743329</td>\n",
       "      <td>1.000000</td>\n",
       "      <td>0.894506</td>\n",
       "      <td>0.699881</td>\n",
       "    </tr>\n",
       "    <tr>\n",
       "      <td>funny</td>\n",
       "      <td>-0.944939</td>\n",
       "      <td>0.894506</td>\n",
       "      <td>1.000000</td>\n",
       "      <td>0.843461</td>\n",
       "    </tr>\n",
       "    <tr>\n",
       "      <td>text length</td>\n",
       "      <td>-0.857664</td>\n",
       "      <td>0.699881</td>\n",
       "      <td>0.843461</td>\n",
       "      <td>1.000000</td>\n",
       "    </tr>\n",
       "  </tbody>\n",
       "</table>\n",
       "</div>"
      ],
      "text/plain": [
       "                 cool    useful     funny  text length\n",
       "cool         1.000000 -0.743329 -0.944939    -0.857664\n",
       "useful      -0.743329  1.000000  0.894506     0.699881\n",
       "funny       -0.944939  0.894506  1.000000     0.843461\n",
       "text length -0.857664  0.699881  0.843461     1.000000"
      ]
     },
     "execution_count": 39,
     "metadata": {},
     "output_type": "execute_result"
    }
   ],
   "source": [
    "stars.corr()"
   ]
  },
  {
   "cell_type": "code",
   "execution_count": 71,
   "metadata": {},
   "outputs": [
    {
     "data": {
      "text/plain": [
       "<matplotlib.axes._subplots.AxesSubplot at 0x1f4189a0f48>"
      ]
     },
     "execution_count": 71,
     "metadata": {},
     "output_type": "execute_result"
    },
    {
     "data": {
      "image/png": "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\n",
      "text/plain": [
       "<Figure size 360x720 with 2 Axes>"
      ]
     },
     "metadata": {
      "needs_background": "light"
     },
     "output_type": "display_data"
    }
   ],
   "source": [
    "#cool way to show correlations \n",
    "plt.figure(figsize=(5,10))\n",
    "sns.heatmap(stars.corr(),cmap='coolwarm',annot=True)"
   ]
  },
  {
   "cell_type": "code",
   "execution_count": 45,
   "metadata": {},
   "outputs": [],
   "source": [
    "#would try later with a multi classifier model\n",
    "yelp_class=yelp[(yelp['stars']==1) | (yelp['stars']==5)]"
   ]
  },
  {
   "cell_type": "code",
   "execution_count": 47,
   "metadata": {},
   "outputs": [],
   "source": [
    "X=yelp_class['text']\n",
    "y=yelp_class['stars']"
   ]
  },
  {
   "cell_type": "code",
   "execution_count": 49,
   "metadata": {},
   "outputs": [],
   "source": [
    "from sklearn.feature_extraction.text import CountVectorizer\n",
    "CV=CountVectorizer()"
   ]
  },
  {
   "cell_type": "code",
   "execution_count": 50,
   "metadata": {},
   "outputs": [],
   "source": [
    "X=CV.fit_transform(X)"
   ]
  },
  {
   "cell_type": "code",
   "execution_count": 51,
   "metadata": {},
   "outputs": [],
   "source": [
    "from sklearn.model_selection import train_test_split"
   ]
  },
  {
   "cell_type": "code",
   "execution_count": 52,
   "metadata": {},
   "outputs": [],
   "source": [
    "X_train, X_test, y_train, y_test = train_test_split(X, y, test_size=0.3, random_state=101)"
   ]
  },
  {
   "cell_type": "code",
   "execution_count": 53,
   "metadata": {},
   "outputs": [],
   "source": [
    "#naive worked as the best classifier\n",
    "from sklearn.naive_bayes import MultinomialNB\n",
    "nb=MultinomialNB()"
   ]
  },
  {
   "cell_type": "code",
   "execution_count": 54,
   "metadata": {},
   "outputs": [
    {
     "data": {
      "text/plain": [
       "MultinomialNB(alpha=1.0, class_prior=None, fit_prior=True)"
      ]
     },
     "execution_count": 54,
     "metadata": {},
     "output_type": "execute_result"
    }
   ],
   "source": [
    "nb.fit(X_train,y_train)"
   ]
  },
  {
   "cell_type": "code",
   "execution_count": 55,
   "metadata": {},
   "outputs": [],
   "source": [
    "predictions=nb.predict(X_test)"
   ]
  },
  {
   "cell_type": "code",
   "execution_count": 56,
   "metadata": {},
   "outputs": [],
   "source": [
    "from sklearn.metrics import confusion_matrix,classification_report"
   ]
  },
  {
   "cell_type": "code",
   "execution_count": 60,
   "metadata": {},
   "outputs": [
    {
     "name": "stdout",
     "output_type": "stream",
     "text": [
      "[[159  22]\n",
      " [ 69 976]]\n",
      "\n",
      "\n",
      "              precision    recall  f1-score   support\n",
      "\n",
      "           1       0.70      0.88      0.78       181\n",
      "           5       0.98      0.93      0.96      1045\n",
      "\n",
      "    accuracy                           0.93      1226\n",
      "   macro avg       0.84      0.91      0.87      1226\n",
      "weighted avg       0.94      0.93      0.93      1226\n",
      "\n"
     ]
    }
   ],
   "source": [
    "print (confusion_matrix(predictions,y_test))\n",
    "print ('\\n')\n",
    "print (classification_report(predictions,y_test))"
   ]
  },
  {
   "cell_type": "code",
   "execution_count": 61,
   "metadata": {},
   "outputs": [],
   "source": [
    "from sklearn.feature_extraction.text import TfidfTransformer\n",
    "from sklearn.pipeline import Pipeline"
   ]
  },
  {
   "cell_type": "code",
   "execution_count": 66,
   "metadata": {},
   "outputs": [],
   "source": [
    "pipe=Pipeline([('bow',CountVectorizer()),\n",
    "               ('tfidf',TfidfTransformer()),\n",
    "               ('classifier', MultinomialNB())])"
   ]
  },
  {
   "cell_type": "code",
   "execution_count": 67,
   "metadata": {},
   "outputs": [],
   "source": [
    "X=yelp_class['text']\n",
    "y=yelp_class['stars']\n",
    "\n",
    "X_train, X_test, y_train, y_test = train_test_split(X, y, test_size=0.3, random_state=101)"
   ]
  },
  {
   "cell_type": "code",
   "execution_count": 68,
   "metadata": {},
   "outputs": [
    {
     "data": {
      "text/plain": [
       "Pipeline(memory=None,\n",
       "         steps=[('bow',\n",
       "                 CountVectorizer(analyzer='word', binary=False,\n",
       "                                 decode_error='strict',\n",
       "                                 dtype=<class 'numpy.int64'>, encoding='utf-8',\n",
       "                                 input='content', lowercase=True, max_df=1.0,\n",
       "                                 max_features=None, min_df=1,\n",
       "                                 ngram_range=(1, 1), preprocessor=None,\n",
       "                                 stop_words=None, strip_accents=None,\n",
       "                                 token_pattern='(?u)\\\\b\\\\w\\\\w+\\\\b',\n",
       "                                 tokenizer=None, vocabulary=None)),\n",
       "                ('tfidf',\n",
       "                 TfidfTransformer(norm='l2', smooth_idf=True,\n",
       "                                  sublinear_tf=False, use_idf=True)),\n",
       "                ('classifier',\n",
       "                 MultinomialNB(alpha=1.0, class_prior=None, fit_prior=True))],\n",
       "         verbose=False)"
      ]
     },
     "execution_count": 68,
     "metadata": {},
     "output_type": "execute_result"
    }
   ],
   "source": [
    "pipe.fit(X_train,y_train)"
   ]
  },
  {
   "cell_type": "code",
   "execution_count": 69,
   "metadata": {},
   "outputs": [],
   "source": [
    "pipe_predictions=pipe.predict(X_test)"
   ]
  },
  {
   "cell_type": "code",
   "execution_count": 70,
   "metadata": {},
   "outputs": [
    {
     "name": "stdout",
     "output_type": "stream",
     "text": [
      "[[  0   0]\n",
      " [228 998]]\n",
      "\n",
      "\n",
      "              precision    recall  f1-score   support\n",
      "\n",
      "           1       0.00      0.00      0.00         0\n",
      "           5       1.00      0.81      0.90      1226\n",
      "\n",
      "    accuracy                           0.81      1226\n",
      "   macro avg       0.50      0.41      0.45      1226\n",
      "weighted avg       1.00      0.81      0.90      1226\n",
      "\n"
     ]
    },
    {
     "name": "stderr",
     "output_type": "stream",
     "text": [
      "C:\\ProgramData\\Anaconda3\\lib\\site-packages\\sklearn\\metrics\\classification.py:1439: UndefinedMetricWarning: Recall and F-score are ill-defined and being set to 0.0 in labels with no true samples.\n",
      "  'recall', 'true', average, warn_for)\n"
     ]
    }
   ],
   "source": [
    "print (confusion_matrix(pipe_predictions,y_test))\n",
    "print ('\\n')\n",
    "print (classification_report(pipe_predictions,y_test))"
   ]
  },
  {
   "cell_type": "code",
   "execution_count": 75,
   "metadata": {},
   "outputs": [],
   "source": [
    "from sklearn.model_selection import GridSearchCV  yelp reviee "
   ]
  },
  
