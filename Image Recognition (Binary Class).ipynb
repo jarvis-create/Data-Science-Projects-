{
 "cells": [
  {
   "cell_type": "code",
   "execution_count": 1,
   "metadata": {},
   "outputs": [],
   "source": [
    "import pandas as pd\n",
    "import numpy as np "
   ]
  },
  {
   "cell_type": "code",
   "execution_count": 2,
   "metadata": {},
   "outputs": [],
   "source": [
    "import matplotlib.pyplot as plt\n",
    "import seaborn as sns \n",
    "%matplotlib inline"
   ]
  },
  {
   "cell_type": "code",
   "execution_count": 3,
   "metadata": {},
   "outputs": [],
   "source": [
    "import os,shutil"
   ]
  },
  {
   "cell_type": "code",
   "execution_count": 20,
   "metadata": {},
   "outputs": [],
   "source": [
    "dataset_dir=r'C:\\Users\\m_joekid\\Desktop\\Kaggle data' #dataset directory"
   ]
  },
  {
   "cell_type": "code",
   "execution_count": 21,
   "metadata": {},
   "outputs": [],
   "source": [
    "base_dir=r'C:\\Users\\m_joekid\\Desktop\\chunk'\n",
    "os.mkdir(base_dir)"
   ]
  },
  {
   "cell_type": "code",
   "execution_count": 22,
   "metadata": {},
   "outputs": [],
   "source": [
    "train_dir=os.path.join(base_dir,'train')\n",
    "os.mkdir(train_dir)\n",
    "\n",
    "test_dir=os.path.join(base_dir,'test')\n",
    "os.mkdir(test_dir)\n",
    "\n",
    "validation_dir=os.path.join(base_dir,'validation')\n",
    "os.mkdir(validation_dir)"
   ]
  },
  {
   "cell_type": "code",
   "execution_count": 23,
   "metadata": {},
   "outputs": [],
   "source": [
    "train_cat_dir=os.path.join(train_dir,'cat')\n",
    "os.mkdir(train_cat_dir)\n",
    "train_dog_dir=os.path.join(train_dir,'dog')\n",
    "os.mkdir(train_dog_dir)\n",
    "\n",
    "test_cat_dir=os.path.join(test_dir,'cat')\n",
    "os.mkdir(test_cat_dir)\n",
    "test_dog_dir=os.path.join(test_dir,'dog')\n",
    "os.mkdir(test_dog_dir)\n",
    "\n",
    "validation_cat_dir=os.path.join(validation_dir,'cat')\n",
    "os.mkdir(validation_cat_dir)\n",
    "validation_dog_dir=os.path.join(validation_dir,'dog')\n",
    "os.mkdir(validation_dog_dir)"
   ]
  },
  {
   "cell_type": "code",
   "execution_count": 25,
   "metadata": {},
   "outputs": [],
   "source": [
    "imglists=['cat.{}.jpg'.format(i) for i in range(1100)]\n",
    "for imglist in imglists:\n",
    "    source=os.path.join(dataset_dir,imglist)\n",
    "    dest=os.path.join(train_cat_dir,imglist)\n",
    "    shutil.copyfile(source,dest)"
   ]
  },
  {
   "cell_type": "code",
   "execution_count": 26,
   "metadata": {},
   "outputs": [],
   "source": [
    "imglists=['dog.{}.jpg'.format(i) for i in range(1100)]\n",
    "for imglist in imglists:\n",
    "    source=os.path.join(dataset_dir,imglist)\n",
    "    dest=os.path.join(train_dog_dir,imglist)\n",
    "    shutil.copyfile(source,dest)"
   ]
  },
  {
   "cell_type": "code",
   "execution_count": 27,
   "metadata": {},
   "outputs": [],
   "source": [
    "imglists=['cat.{}.jpg'.format(i) for i in range(1100,1600)]\n",
    "for imglist in imglists:\n",
    "    source=os.path.join(dataset_dir,imglist)\n",
    "    dest=os.path.join(test_cat_dir,imglist) \n",
    "    shutil.copyfile(source,dest)"
   ]
  },
  {
   "cell_type": "code",
   "execution_count": 28,
   "metadata": {},
   "outputs": [],
   "source": [
    "imglists=['dog.{}.jpg'.format(i) for i in range(1100,1600)]\n",
    "for imglist in imglists:\n",
    "    source=os.path.join(dataset_dir,imglist)\n",
    "    dest=os.path.join(test_dog_dir,imglist)\n",
    "    shutil.copyfile(source,dest)"
   ]
  },
  {
   "cell_type": "code",
   "execution_count": 29,
   "metadata": {},
   "outputs": [],
   "source": [
    "imglists=['cat.{}.jpg'.format(i) for i in range(1600,2100)]\n",
    "for imglist in imglists:\n",
    "    source=os.path.join(dataset_dir,imglist)\n",
    "    dest=os.path.join(validation_cat_dir,imglist) \n",
    "    shutil.copyfile(source,dest)"
   ]
  },
  {
   "cell_type": "code",
   "execution_count": 30,
   "metadata": {},
   "outputs": [],
   "source": [
    "imglists=['dog.{}.jpg'.format(i) for i in range(1600,2100)]\n",
    "for imglist in imglists:\n",
    "    source=os.path.join(dataset_dir,imglist)\n",
    "    dest=os.path.join(validation_dog_dir,imglist)\n",
    "    shutil.copyfile(source,dest)"
   ]
  },
  {
   "cell_type": "code",
   "execution_count": 37,
   "metadata": {
    "tags": []
   },
   "outputs": [
    {
     "output_type": "stream",
     "name": "stdout",
     "text": "training cat images: 1100\ntraining dog images: 1100\ntest cat images: 500\ntest dog images: 500\nvalidation cat images: 500\nvalidation dog images: 500\n"
    }
   ],
   "source": [
    "print ('training cat images:', len(os.listdir(train_cat_dir)))\n",
    "print ('training dog images:', len(os.listdir(train_dog_dir)))\n",
    "print ('test cat images:', len(os.listdir(test_cat_dir)))\n",
    "print ('test dog images:', len(os.listdir(test_dog_dir)))\n",
    "print ('validation cat images:', len(os.listdir(validation_cat_dir)))\n",
    "print ('validation dog images:', len(os.listdir(validation_dog_dir)))"
   ]
  },
  {
   "cell_type": "code",
   "execution_count": 38,
   "metadata": {},
   "outputs": [],
   "source": [
    "from tensorflow.keras.preprocessing.image import ImageDataGenerator"
   ]
  },
  {
   "cell_type": "code",
   "execution_count": 39,
   "metadata": {},
   "outputs": [],
   "source": [
    "train_data=ImageDataGenerator(rescale=1./255)\n",
    "test_data=ImageDataGenerator(rescale=1./255)    "
   ]
  },
  {
   "cell_type": "code",
   "execution_count": 40,
   "metadata": {
    "tags": []
   },
   "outputs": [
    {
     "output_type": "stream",
     "name": "stdout",
     "text": "Found 2200 images belonging to 2 classes.\nFound 1000 images belonging to 2 classes.\n"
    }
   ],
   "source": [
    "train_generator=train_data.flow_from_directory(train_dir,target_size=(150,150),batch_size=20,class_mode='binary')\n",
    "validation_generator=test_data.flow_from_directory(test_dir,target_size=(150,150),batch_size=20,class_mode='binary')"
   ]
  },
  {
   "cell_type": "code",
   "execution_count": 41,
   "metadata": {},
   "outputs": [],
   "source": [
    "from tensorflow.keras import Sequential\n",
    "from tensorflow.keras.layers import Dense,Dropout,Flatten\n",
    "from tensorflow.keras.layers import Conv2D,MaxPooling2D"
   ]
  },
  {
   "cell_type": "code",
   "execution_count": 60,
   "metadata": {},
   "outputs": [],
   "source": [
    "model=Sequential()\n",
    "model.add(Conv2D(64,(3,3), activation='relu',input_shape=(150,150,3)))\n",
    "model.add(MaxPooling2D(2,2))\n",
    "model.add(Conv2D(128,(3,3),activation='relu'))\n",
    "model.add(MaxPooling2D(2,2))\n",
    "model.add(Conv2D(256,(3,3),activation='relu'))\n",
    "model.add(MaxPooling2D(2,2))\n",
    "model.add(Conv2D(256,(3,3),activation='relu'))\n",
    "model.add(MaxPooling2D(2,2))\n",
    "model.add(Dropout(0.25))"
   ]
  },
  {
   "cell_type": "code",
   "execution_count": 61,
   "metadata": {},
   "outputs": [],
   "source": [
    "model.add(Flatten())\n",
    "model.add(Dense(256,activation='relu'))\n",
    "model.add(Dropout(0.5))\n",
    "model.add(Dense(1,activation='sigmoid'))"
   ]
  },
  {
   "cell_type": "code",
   "execution_count": 63,
   "metadata": {
    "tags": []
   },
   "outputs": [
    {
     "output_type": "stream",
     "name": "stdout",
     "text": "Model: \"sequential_2\"\n_________________________________________________________________\nLayer (type)                 Output Shape              Param #   \n=================================================================\nconv2d (Conv2D)              (None, 148, 148, 64)      1792      \n_________________________________________________________________\nmax_pooling2d (MaxPooling2D) (None, 74, 74, 64)        0         \n_________________________________________________________________\nconv2d_1 (Conv2D)            (None, 72, 72, 128)       73856     \n_________________________________________________________________\nmax_pooling2d_1 (MaxPooling2 (None, 36, 36, 128)       0         \n_________________________________________________________________\nconv2d_2 (Conv2D)            (None, 34, 34, 256)       295168    \n_________________________________________________________________\nmax_pooling2d_2 (MaxPooling2 (None, 17, 17, 256)       0         \n_________________________________________________________________\nconv2d_3 (Conv2D)            (None, 15, 15, 256)       590080    \n_________________________________________________________________\nmax_pooling2d_3 (MaxPooling2 (None, 7, 7, 256)         0         \n_________________________________________________________________\ndropout (Dropout)            (None, 7, 7, 256)         0         \n_________________________________________________________________\nflatten (Flatten)            (None, 12544)             0         \n_________________________________________________________________\ndense (Dense)                (None, 256)               3211520   \n_________________________________________________________________\ndropout_1 (Dropout)          (None, 256)               0         \n_________________________________________________________________\ndense_1 (Dense)              (None, 1)                 257       \n=================================================================\nTotal params: 4,172,673\nTrainable params: 4,172,673\nNon-trainable params: 0\n_________________________________________________________________\n"
    }
   ],
   "source": [
    "model.summary()"
   ]
  },
  {
   "cell_type": "code",
   "execution_count": 62,
   "metadata": {},
   "outputs": [],
   "source": [
    "from tensorflow.keras import optimizers"
   ]
  },
  {
   "cell_type": "code",
   "execution_count": 64,
   "metadata": {},
   "outputs": [],
   "source": [
    "model.compile(optimizer=optimizers.RMSprop(learning_rate=1e-4), loss='binary_crossentropy',metrics=['accuracy'])"
   ]
  },
  {
   "cell_type": "code",
   "execution_count": 66,
   "metadata": {
    "tags": []
   },
   "outputs": [
    {
     "output_type": "stream",
     "name": "stdout",
     "text": "Epoch 1/30\n100/100 [==============================] - 482s 5s/step - loss: 0.6758 - accuracy: 0.5690 - val_loss: 0.6589 - val_accuracy: 0.6130\nEpoch 2/30\n100/100 [==============================] - 487s 5s/step - loss: 0.6400 - accuracy: 0.6235 - val_loss: 0.6293 - val_accuracy: 0.6380\nEpoch 3/30\n100/100 [==============================] - 488s 5s/step - loss: 0.5980 - accuracy: 0.6640 - val_loss: 0.6041 - val_accuracy: 0.6840\nEpoch 4/30\n100/100 [==============================] - 481s 5s/step - loss: 0.5819 - accuracy: 0.6775 - val_loss: 0.6006 - val_accuracy: 0.6850\nEpoch 5/30\n100/100 [==============================] - 482s 5s/step - loss: 0.5495 - accuracy: 0.7210 - val_loss: 0.5834 - val_accuracy: 0.6930\nEpoch 6/30\n100/100 [==============================] - 488s 5s/step - loss: 0.5366 - accuracy: 0.7260 - val_loss: 0.5663 - val_accuracy: 0.7080\nEpoch 7/30\n100/100 [==============================] - 489s 5s/step - loss: 0.5262 - accuracy: 0.7455 - val_loss: 0.5611 - val_accuracy: 0.7080\nEpoch 8/30\n100/100 [==============================] - 487s 5s/step - loss: 0.4880 - accuracy: 0.7645 - val_loss: 0.5513 - val_accuracy: 0.7250\nEpoch 9/30\n100/100 [==============================] - 448s 4s/step - loss: 0.4677 - accuracy: 0.7790 - val_loss: 0.5203 - val_accuracy: 0.7560\nEpoch 10/30\n100/100 [==============================] - 423s 4s/step - loss: 0.4393 - accuracy: 0.7950 - val_loss: 0.6004 - val_accuracy: 0.7150\nEpoch 11/30\n100/100 [==============================] - 423s 4s/step - loss: 0.4341 - accuracy: 0.7905 - val_loss: 0.5536 - val_accuracy: 0.7300\nEpoch 12/30\n100/100 [==============================] - 432s 4s/step - loss: 0.4059 - accuracy: 0.8080 - val_loss: 0.5017 - val_accuracy: 0.7700\nEpoch 13/30\n100/100 [==============================] - 428s 4s/step - loss: 0.3651 - accuracy: 0.8425 - val_loss: 0.5231 - val_accuracy: 0.7550\nEpoch 14/30\n100/100 [==============================] - 425s 4s/step - loss: 0.3695 - accuracy: 0.8285 - val_loss: 0.5336 - val_accuracy: 0.7460\nEpoch 15/30\n100/100 [==============================] - 426s 4s/step - loss: 0.3346 - accuracy: 0.8645 - val_loss: 0.5383 - val_accuracy: 0.7610\nEpoch 16/30\n100/100 [==============================] - 418s 4s/step - loss: 0.3101 - accuracy: 0.8715 - val_loss: 0.5590 - val_accuracy: 0.7600\nEpoch 17/30\n100/100 [==============================] - 420s 4s/step - loss: 0.2961 - accuracy: 0.8745 - val_loss: 0.5385 - val_accuracy: 0.7650\nEpoch 18/30\n100/100 [==============================] - 49044s 490s/step - loss: 0.2856 - accuracy: 0.8805 - val_loss: 0.5337 - val_accuracy: 0.7680\nEpoch 19/30\n100/100 [==============================] - 421s 4s/step - loss: 0.2698 - accuracy: 0.8845 - val_loss: 0.6199 - val_accuracy: 0.7400\nEpoch 20/30\n100/100 [==============================] - 409s 4s/step - loss: 0.2483 - accuracy: 0.9000 - val_loss: 0.6018 - val_accuracy: 0.7590\nEpoch 21/30\n100/100 [==============================] - 407s 4s/step - loss: 0.2351 - accuracy: 0.9035 - val_loss: 0.5693 - val_accuracy: 0.7630\nEpoch 22/30\n100/100 [==============================] - 408s 4s/step - loss: 0.2156 - accuracy: 0.9215 - val_loss: 0.5262 - val_accuracy: 0.7890\nEpoch 23/30\n100/100 [==============================] - 422s 4s/step - loss: 0.1896 - accuracy: 0.9260 - val_loss: 0.5547 - val_accuracy: 0.7900\nEpoch 24/30\n100/100 [==============================] - 499s 5s/step - loss: 0.1835 - accuracy: 0.9345 - val_loss: 0.6026 - val_accuracy: 0.7750\nEpoch 25/30\n100/100 [==============================] - 482s 5s/step - loss: 0.1854 - accuracy: 0.9325 - val_loss: 0.5722 - val_accuracy: 0.7860\nEpoch 26/30\n100/100 [==============================] - 480s 5s/step - loss: 0.1450 - accuracy: 0.9470 - val_loss: 0.6524 - val_accuracy: 0.7650\nEpoch 27/30\n100/100 [==============================] - 478s 5s/step - loss: 0.1405 - accuracy: 0.9420 - val_loss: 0.6124 - val_accuracy: 0.7900\nEpoch 28/30\n100/100 [==============================] - 476s 5s/step - loss: 0.1243 - accuracy: 0.9550 - val_loss: 0.6302 - val_accuracy: 0.7930\nEpoch 29/30\n100/100 [==============================] - 485s 5s/step - loss: 0.1233 - accuracy: 0.9545 - val_loss: 0.7781 - val_accuracy: 0.7590\nEpoch 30/30\n100/100 [==============================] - 459s 5s/step - loss: 0.1080 - accuracy: 0.9640 - val_loss: 0.7851 - val_accuracy: 0.7800\n"
    }
   ],
   "source": [
    "history=model.fit_generator(train_generator,validation_data=validation_generator,validation_steps=50,steps_per_epoch=100,epochs=30)"
   ]
  },
  {
   "cell_type": "code",
   "execution_count": null,
   "metadata": {},
   "outputs": [],
   "source": []
  }
 ],
 "metadata": {
  "language_info": {
   "codemirror_mode": {
    "name": "ipython",
    "version": 3
   },
   "file_extension": ".py",
   "mimetype": "text/x-python",
   "name": "python",
   "nbconvert_exporter": "python",
   "pygments_lexer": "ipython3",
   "version": "3.7.7-final"
  },
  "orig_nbformat": 2,
  "kernelspec": {
   "name": "tensorflow",
   "display_name": "Python 3.7 (tensorflow)"
  }
 },
 "nbformat": 4,
 "nbformat_minor": 2
}